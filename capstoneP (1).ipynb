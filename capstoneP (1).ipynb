{
  "nbformat": 4,
  "nbformat_minor": 0,
  "metadata": {
    "colab": {
      "provenance": []
    },
    "kernelspec": {
      "name": "python3",
      "display_name": "Python 3"
    },
    "language_info": {
      "name": "python"
    }
  },
  "cells": [
    {
      "cell_type": "code",
      "execution_count": 1,
      "metadata": {
        "id": "Gv8Z_GkBQAcV"
      },
      "outputs": [],
      "source": [
        "import numpy as np\n",
        "from math import radians, cos, sin, asin, sqrt\n",
        "\n",
        "BASE_PRICE = 10\n",
        "MAX_PRICE = 2 * BASE_PRICE\n",
        "MIN_PRICE = 0.5 * BASE_PRICE"
      ]
    },
    {
      "cell_type": "code",
      "source": [
        "def haversine(lat1, lon1, lat2, lon2):\n",
        "    R = 6371\n",
        "    dlat = radians(lat2 - lat1)\n",
        "    dlon = radians(lon2 - lon1)\n",
        "    a = sin(dlat/2)**2 + cos(radians(lat1)) * cos(radians(lat2)) * sin(dlon/2)**2\n",
        "    c = 2 * asin(sqrt(a))\n",
        "    return R * c\n",
        "\n",
        "def model1_linear(prev_price, occupancy, capacity, alpha=2):\n",
        "    ratio = occupancy / capacity\n",
        "    new_price = prev_price + alpha * ratio\n",
        "    return np.clip(new_price, MIN_PRICE, MAX_PRICE)\n",
        "\n",
        "def compute_demand(occupancy, capacity, queue, traffic, is_special,\n",
        "                   alpha=1, beta=0.5, gamma=0.7, delta=1.2):\n",
        "    demand = (\n",
        "        alpha * (occupancy / capacity) +\n",
        "        beta * queue -\n",
        "        gamma * traffic +\n",
        "        delta * is_special\n",
        "    )\n",
        "\n",
        "    traffic_mapping = {'low': 1, 'average': 2, 'high': 3}\n",
        "    traffic_numeric = traffic_mapping.get(traffic, 1)\n",
        "    demand = (\n",
        "        alpha * (occupancy / capacity) +\n",
        "        beta * queue -\n",
        "        gamma * traffic_numeric +\n",
        "        delta * is_special\n",
        "    )\n",
        "\n",
        "    return demand"
      ],
      "metadata": {
        "id": "2H2QCxGTd8_A"
      },
      "execution_count": 22,
      "outputs": []
    },
    {
      "cell_type": "code",
      "source": [
        "def normalize_demand(demand, min_d=0, max_d=10):\n",
        "    return np.clip((demand - min_d) / (max_d - min_d), 0, 1)\n",
        "\n",
        "def model2_demand_based(demand):\n",
        "    lambda_coeff = 1\n",
        "    price = BASE_PRICE * (1 + lambda_coeff * normalize_demand(demand))\n",
        "    return np.clip(price, MIN_PRICE, MAX_PRICE)\n",
        "\n",
        "def model3_competitive(my_price, my_lat, my_lon, lot_id, current_df):\n",
        "    nearby_prices = []\n",
        "    for _, row in current_df.iterrows():\n",
        "        if row['SystemCodeNumber'] == lot_id:\n",
        "            continue\n",
        "        dist = haversine(my_lat, row['Longitude'], row['Latitude'], row['Longitude'])\n",
        "        if dist < 1.0:\n",
        "            nearby_prices.append(row['Price'])\n",
        "    avg_nearby = np.mean(nearby_prices) if nearby_prices else my_price\n",
        "    if my_price > avg_nearby:\n",
        "        return my_price - 1\n",
        "    elif my_price < avg_nearby:\n",
        "        return my_price + 1\n",
        "    return my_price\n"
      ],
      "metadata": {
        "id": "v9dfebMyd9BJ"
      },
      "execution_count": 3,
      "outputs": []
    },
    {
      "cell_type": "code",
      "source": [
        "from bokeh.plotting import figure, show\n",
        "from bokeh.models import ColumnDataSource\n",
        "from bokeh.layouts import gridplot\n",
        "\n",
        "\n",
        "def plot_dashboard(sim_df):\n",
        "    sample_lots = sim_df['SystemCodeNumber'].unique()[:4]\n",
        "    plots = []\n",
        "\n",
        "    for lot in sample_lots:\n",
        "        data = sim_df[sim_df['SystemCodeNumber'] == lot]\n",
        "        src1 = ColumnDataSource(data={\"x\": data['Timestamp'], \"y\": data['Price']})\n",
        "        src2 = ColumnDataSource(data={\"x\": data['Timestamp'], \"y\": data['Occupancy']})\n",
        "\n",
        "        p1 = figure(title=f\"Price Over Time - Lot {lot}\", x_axis_type='datetime', width=450, height=250)\n",
        "        p1.line(\"x\", \"y\", source=src1, line_width=2, color=\"navy\")\n",
        "\n",
        "        p2 = figure(title=f\"Occupancy Over Time - Lot {lot}\", x_axis_type='datetime', width=450, height=250)\n",
        "        p2.line(\"x\", \"y\", source=src2, line_width=2, color=\"firebrick\")\n",
        "\n",
        "        plots.append([p1, p2])\n",
        "\n",
        "    show(gridplot(plots))"
      ],
      "metadata": {
        "id": "Wx_8W83pd9FM"
      },
      "execution_count": 28,
      "outputs": []
    },
    {
      "cell_type": "code",
      "source": [
        "def simulate_prices(df):\n",
        "  df = df.sort_values('Timestamp')\n",
        "  price_dict = {}\n",
        "  results = []\n",
        "\n",
        "  traffic_mapping = {'low': 1, 'average': 2, 'high': 3}\n",
        "  df['TrafficConditionNearby_numeric'] = df['TrafficConditionNearby'].map(traffic_mapping).fillna(1) # Default to low if not found\n",
        "\n",
        "\n",
        "  for t in df['Timestamp'].unique():\n",
        "      current = df[df['Timestamp'] == t].copy()\n",
        "      prices = []\n",
        "      for idx, row in current.iterrows():\n",
        "          prev_price = price_dict.get(row['SystemCodeNumber'], BASE_PRICE)\n",
        "          demand = compute_demand(\n",
        "              row['Occupancy'], row['Capacity'], row['QueueLength'],\n",
        "              row['TrafficConditionNearby_numeric'], row['IsSpecialDay']\n",
        "          )\n",
        "          new_price = model2_demand_based(demand)\n",
        "          current.at[idx, 'Price'] = new_price\n",
        "          new_price = model3_competitive(new_price, row['Latitude'], row['Longitude'], row['SystemCodeNumber'], current)\n",
        "          price_dict[row['SystemCodeNumber']] = new_price\n",
        "          prices.append(new_price)\n",
        "      current['Price'] = prices\n",
        "      results.append(current)\n",
        "  return pd.concat(results)"
      ],
      "metadata": {
        "id": "xosxMAFEetiQ"
      },
      "execution_count": 29,
      "outputs": []
    },
    {
      "cell_type": "code",
      "metadata": {
        "id": "b11d01ad"
      },
      "source": [
        "import pandas as pd\n",
        "\n",
        "try:\n",
        "    df = pd.read_csv('/dataset.csv')\n",
        "\n",
        "    df['Timestamp'] = pd.to_datetime(df['LastUpdatedDate'] + ' ' + df['LastUpdatedTime'], format='%d-%m-%Y %H:%M:%S')\n",
        "except FileNotFoundError:\n",
        "    print(\"Error: '/dataset.csv' not found. Please replace '/dataset.csv' with the correct file path.\")\n",
        "    df = None\n",
        "if df is not None:\n",
        "\n",
        "    simulated_df = simulate_prices(df.copy())\n",
        "\n",
        "\n",
        "    plot_dashboard(simulated_df)"
      ],
      "execution_count": 31,
      "outputs": []
    },
    {
      "cell_type": "code",
      "source": [
        "from bokeh.plotting import figure, show\n",
        "from bokeh.models import ColumnDataSource\n",
        "from bokeh.layouts import gridplot\n",
        "\n",
        "def plot_enhanced_dashboard(sim_df):\n",
        "    sample_lots = sim_df['SystemCodeNumber'].unique()[:4]\n",
        "    plots = []\n",
        "\n",
        "    for lot in sample_lots:\n",
        "        data = sim_df[sim_df['SystemCodeNumber'] == lot]\n",
        "        src1 = ColumnDataSource(data={\"x\": data['Timestamp'], \"y\": data['Price']})\n",
        "        src2 = ColumnDataSource(data={\"x\": data['Timestamp'], \"y\": data['Occupancy']})\n",
        "\n",
        "        p1 = figure(title=f\"Price Over Time - Lot {lot}\", x_axis_type='datetime', width=450, height=250)\n",
        "        p1.line(\"x\", \"y\", source=src1, line_width=2, color=\"navy\")\n",
        "\n",
        "        p2 = figure(title=f\"Occupancy Over Time - Lot {lot}\", x_axis_type='datetime', width=450, height=250)\n",
        "        p2.line(\"x\", \"y\", source=src2, line_width=2, color=\"firebrick\")\n",
        "\n",
        "        plots.append([p1, p2])\n",
        "\n",
        "    show(gridplot(plots))"
      ],
      "metadata": {
        "id": "S3xAm92Sqx2U"
      },
      "execution_count": 40,
      "outputs": []
    },
    {
      "cell_type": "code",
      "source": [
        "simulated_df.to_csv(\"./simulated_parking_prices.csv\", index=False)\n",
        "print(\"\\n✅ Dynamic pricing simulation complete.\")\n",
        "print(\"📁 CSV exported: simulated_parking_prices.csv\")\n",
        "print(\"📊 Dashboard visualized with Bokeh.\")"
      ],
      "metadata": {
        "colab": {
          "base_uri": "https://localhost:8080/"
        },
        "id": "mlAqubt2sOm6",
        "outputId": "8685e2a2-0a46-4030-e021-a84c6c6c59f6"
      },
      "execution_count": 44,
      "outputs": [
        {
          "output_type": "stream",
          "name": "stdout",
          "text": [
            "\n",
            "✅ Dynamic pricing simulation complete.\n",
            "📁 CSV exported: simulated_parking_prices.csv\n",
            "📊 Dashboard visualized with Bokeh.\n"
          ]
        }
      ]
    },
    {
      "cell_type": "code",
      "source": [
        "from bokeh.io.export import export_png\n",
        "from bokeh.resources import INLINE\n",
        "from bokeh.embed import file_html\n",
        "import os"
      ],
      "metadata": {
        "id": "Bqts9FpRtVAJ"
      },
      "execution_count": 46,
      "outputs": []
    },
    {
      "cell_type": "code",
      "source": [
        "def export_dashboard(sim_df):\n",
        "  from bokeh.plotting import figure\n",
        "  from bokeh.layouts import gridplot\n",
        "  from bokeh.models import ColumnDataSource\n",
        "  from bokeh.resources import INLINE\n",
        "  from bokeh.embed import file_html\n",
        "  from bokeh.io.export import export_png\n",
        "  import os\n",
        "\n",
        "  plots = []\n",
        "  lots = sim_df['SystemCodeNumber'].unique()[:4]\n",
        "  for lot in lots:\n",
        "      data = sim_df[sim_df['SystemCodeNumber'] == lot]\n",
        "      src1 = ColumnDataSource(data={\"x\": data['Timestamp'], \"y\": data['Price']})\n",
        "\n",
        "      p = figure(title=f\"Price Over Time - Lot {lot}\", x_axis_type='datetime', width=600, height=300)\n",
        "      p.line(\"x\", \"y\", source=src1, line_width=2, color=\"green\")\n",
        "      plots.append(p)\n",
        "\n",
        "  dashboard = gridplot(plots, ncols=1)\n",
        "  html = file_html(dashboard, INLINE, \"Dynamic Pricing Dashboard\")\n",
        "  with open(\"./final_dashboard.html\", \"w\") as f:\n",
        "      f.write(html)\n",
        "  print(\"✅ Exported HTML: final_dashboard.html\")\n",
        "\n",
        "  # Optional: Export PNG for first plot only (others can be added similarly)\n",
        "  try:\n",
        "      export_png(plots[0], filename=\"./price_plot_lot1.png\")\n",
        "      print(\"✅ Exported PNG: price_plot_lot1.png\")\n",
        "  except Exception as e:\n",
        "      print(\"⚠️ PNG export failed:\", e)"
      ],
      "metadata": {
        "id": "PPx4QsvKtZCJ"
      },
      "execution_count": 57,
      "outputs": []
    },
    {
      "cell_type": "code",
      "source": [
        "export_dashboard(simulated_df)\n",
        "simulated_df.to_csv(\"./simulated_parking_prices.csv\", index=False)\n",
        "print(\"\\n✅ Dynamic pricing simulation complete.\")\n",
        "print(\"📁 CSV exported: simulated_parking_prices.csv\")\n",
        "print(\"📊 Dashboard visualized and exported as HTML/PNG.\")"
      ],
      "metadata": {
        "colab": {
          "base_uri": "https://localhost:8080/"
        },
        "id": "MoYiVeeZtgzU",
        "outputId": "9ecf9bb7-5171-4f87-ab02-b39424c9cb69"
      },
      "execution_count": 64,
      "outputs": [
        {
          "output_type": "stream",
          "name": "stdout",
          "text": [
            "✅ Exported HTML: final_dashboard.html\n",
            "⚠️ PNG export failed: To use bokeh.io image export functions you need selenium ('conda install selenium' or 'pip install selenium')\n",
            "\n",
            "✅ Dynamic pricing simulation complete.\n",
            "📁 CSV exported: simulated_parking_prices.csv\n",
            "📊 Dashboard visualized and exported as HTML/PNG.\n"
          ]
        }
      ]
    }
  ]
}